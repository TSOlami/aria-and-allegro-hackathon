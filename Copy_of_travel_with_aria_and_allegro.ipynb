{
  "nbformat": 4,
  "nbformat_minor": 0,
  "metadata": {
    "colab": {
      "provenance": []
    },
    "kernelspec": {
      "name": "python3",
      "display_name": "Python 3"
    },
    "language_info": {
      "name": "python"
    }
  },
  "cells": [
    {
      "cell_type": "markdown",
      "source": [
        "# Building an App with Aria and Allegro: Turning Travel Photos into Fun Fact Videos"
      ],
      "metadata": {
        "id": "hc79e_BtZpKc"
      }
    },
    {
      "cell_type": "markdown",
      "source": [
        "### Install Dependencies and set environments"
      ],
      "metadata": {
        "id": "u17Eu3hCZUL_"
      }
    },
    {
      "cell_type": "code",
      "execution_count": 1,
      "metadata": {
        "id": "xxrL6yknHFsV"
      },
      "outputs": [],
      "source": [
        "!pip -qqq install openai requests"
      ]
    },
    {
      "cell_type": "markdown",
      "source": [
        "Import packages and store api key for ARIA"
      ],
      "metadata": {
        "id": "HWQqaOb7ZSju"
      }
    },
    {
      "cell_type": "code",
      "source": [
        "from google.colab import userdata\n",
        "\n",
        "base_url = 'https://api.rhymes.ai/v1'\n",
        "api_key = userdata.get('ARIA_API_KEY')"
      ],
      "metadata": {
        "id": "cn4BIbwgZFMW"
      },
      "execution_count": 3,
      "outputs": []
    },
    {
      "cell_type": "markdown",
      "source": [
        "Initialize the OpenAI class with the stored values"
      ],
      "metadata": {
        "id": "z9RoSCeBZfuX"
      }
    },
    {
      "cell_type": "code",
      "source": [
        "from openai import OpenAI\n",
        "\n",
        "client = OpenAI(\n",
        "    base_url=base_url,\n",
        "    api_key=api_key\n",
        ")"
      ],
      "metadata": {
        "id": "CLDSwaCMHvcK"
      },
      "execution_count": 4,
      "outputs": []
    },
    {
      "cell_type": "markdown",
      "source": [
        "### Image Analysis with ARIA API"
      ],
      "metadata": {
        "id": "ace8s2ldZgxD"
      }
    },
    {
      "cell_type": "code",
      "source": [
        "import base64\n",
        "\n",
        "def image_to_base64(image_path):\n",
        "    \"\"\"\n",
        "    Converts an image to a base64-encoded string.\n",
        "\n",
        "    Args:\n",
        "        image_path (str): The path to the image file.\n",
        "\n",
        "    Returns:\n",
        "        str: The base64-encoded string of the image.\n",
        "    \"\"\"\n",
        "    try:\n",
        "        with open(image_path, \"rb\") as image_file:\n",
        "            base64_string = base64.b64encode(image_file.read()).decode(\"utf-8\")\n",
        "        return base64_string\n",
        "    except FileNotFoundError:\n",
        "        return \"Image file not found. Please check the path.\"\n",
        "    except Exception as e:\n",
        "        return f\"An error occurred: {str(e)}\"\n",
        "\n"
      ],
      "metadata": {
        "id": "dzuJn6mwIgA2"
      },
      "execution_count": 5,
      "outputs": []
    },
    {
      "cell_type": "markdown",
      "source": [
        "Analyze the image provided and get scences to be shown by **Allegro**"
      ],
      "metadata": {
        "id": "87QSCCSPaAUp"
      }
    },
    {
      "cell_type": "code",
      "source": [
        "from textwrap import dedent\n",
        "base64_image = image_to_base64('/content/image.webp')\n",
        "\n",
        "response = client.chat.completions.create(\n",
        "    model=\"aria\",\n",
        "    messages=[\n",
        "        {\n",
        "            \"role\": \"user\",\n",
        "            \"content\": [\n",
        "                {\"type\": \"image_url\", \"image_url\": {\"url\": f\"data:image/jpeg;base64,{base64_image}\"}},\n",
        "                {\"type\": \"text\", \"text\": dedent(\"\"\"\\\n",
        "                <image>\\nThis is an image of a place. Give three scenes and descriptions to bring it to life. Format:\n",
        "\n",
        "                Scene <number>: <engaging description>\n",
        "\n",
        "                Return 3 scenes in that format only.\n",
        "                \"\"\")}\n",
        "            ]\n",
        "        }\n",
        "    ],\n",
        "    stream=False,\n",
        "    temperature=0.6,\n",
        "    max_tokens=1024,\n",
        "    top_p=1,\n",
        "    stop=[\"<|im_end|>\"]\n",
        ")\n",
        "\n",
        "\n",
        "result = response.choices[0].message.content\n",
        "\n",
        "print(result)"
      ],
      "metadata": {
        "colab": {
          "base_uri": "https://localhost:8080/"
        },
        "id": "azC6WlVbIxrc",
        "outputId": "454a700b-64c9-4125-94b9-95abd70b9b11"
      },
      "execution_count": 6,
      "outputs": [
        {
          "output_type": "stream",
          "name": "stdout",
          "text": [
            "Scene 1: A cozy corner of a modern living room, where a young person in a blue hoodie lounges comfortably on a dark blue couch, holding a steaming cup of coffee. The vibrant red wall behind them is adorned with the motivational words \"EAT SLEEP CODE REPEAT\" in bold white letters, creating a lively and inspiring backdrop. The scene exudes a sense of calm and focus, perfect for a coding marathon or a relaxed coffee break.\n",
            "\n",
            "Scene 2: The individual leans back, taking a sip of their coffee, looking relaxed and contemplative. The repetitive pattern on the wall emphasizes the importance of balance between work and rest, suggesting a lifestyle centered around coding, sleep, and coffee. The room's ambiance is both motivating and soothing, ideal for productivity and creativity.\n",
            "\n",
            "Scene 3: The person shifts slightly, showing a thoughtful expression. The bright red wall with its motivational message serves as a constant reminder of their dedication to coding, while the comfortable couch and warm beverage create a welcoming space for both intense work sessions and moments of relaxation.\n"
          ]
        }
      ]
    },
    {
      "cell_type": "markdown",
      "source": [
        "### Create Video Task"
      ],
      "metadata": {
        "id": "z9yfOzWOX_BA"
      }
    },
    {
      "cell_type": "markdown",
      "source": [
        "Function to start a video task and return the request id for the task."
      ],
      "metadata": {
        "id": "FnhCJYVfYCb1"
      }
    },
    {
      "cell_type": "code",
      "source": [
        "import requests\n",
        "from textwrap import dedent\n",
        "\n",
        "def generate_video(token: str, result_scenes: str):\n",
        "    url = \"https://api.rhymes.ai/v1/generateVideoSyn\"\n",
        "    headers = {\n",
        "        \"Authorization\": f\"Bearer {token}\",\n",
        "        \"Content-Type\": \"application/json\"\n",
        "    }\n",
        "    data = {\n",
        "        \"refined_prompt\": result_scenes,\n",
        "        \"num_step\": 100,\n",
        "        \"cfg_scale\": 7.5,\n",
        "        \"user_prompt\": result_scenes,\n",
        "        \"rand_seed\": 12345\n",
        "    }\n",
        "\n",
        "    try:\n",
        "        response = requests.post(url, headers=headers, json=data)\n",
        "        # Check if the request was successful\n",
        "        response.raise_for_status()\n",
        "        return response.json()  # Return the JSON response\n",
        "    except requests.exceptions.RequestException as e:\n",
        "        return f\"An error occurred: {str(e)}\"\n",
        "\n"
      ],
      "metadata": {
        "id": "Ot24_rjpURuT"
      },
      "execution_count": 7,
      "outputs": []
    },
    {
      "cell_type": "markdown",
      "source": [
        "Query the function with the result gotten from the ARIA multimodal api"
      ],
      "metadata": {
        "id": "yKc3k6dPYNK_"
      }
    },
    {
      "cell_type": "code",
      "source": [
        "from google.colab import userdata\n",
        "# Replace 'your_bearer_token_here' with the actual token\n",
        "bearer_token = userdata.get('ALLEGRO_API_KEY')\n",
        "response_data = generate_video(bearer_token, result)\n",
        "request_id = response_data.get('data')\n",
        "print(request_id)"
      ],
      "metadata": {
        "colab": {
          "base_uri": "https://localhost:8080/"
        },
        "id": "m6Z68PMWU0Kp",
        "outputId": "5279450d-7e6a-4776-8e98-4ca058734202"
      },
      "execution_count": 8,
      "outputs": [
        {
          "output_type": "stream",
          "name": "stdout",
          "text": [
            "5e4a5911-a28f-4ca1-9300-9af9baab321f\n"
          ]
        }
      ]
    },
    {
      "cell_type": "markdown",
      "source": [
        "### Query Video Task Status"
      ],
      "metadata": {
        "id": "ioKGFwY_YZxF"
      }
    },
    {
      "cell_type": "markdown",
      "source": [
        "Function to get the video link based on the request id gotten. This function automatically waits for **2minutes** before returning a value"
      ],
      "metadata": {
        "id": "5sYfCr7cW8pt"
      }
    },
    {
      "cell_type": "code",
      "source": [
        "import requests\n",
        "import time\n",
        "\n",
        "def query_video_status(token, request_id):\n",
        "    # Wait for at least 2 minutes (120 seconds)\n",
        "    time.sleep(120)\n",
        "\n",
        "    url = \"https://api.rhymes.ai/v1/videoQuery\"\n",
        "    headers = {\n",
        "        \"Authorization\": f\"Bearer {token}\",\n",
        "    }\n",
        "    params = {\n",
        "        \"requestId\": request_id  # Add the requestId as a query parameter\n",
        "    }\n",
        "\n",
        "    try:\n",
        "        response = requests.get(url, headers=headers, params=params)\n",
        "        # Check if the request was successful\n",
        "        response.raise_for_status()\n",
        "        return response.json()  # Return the JSON response\n",
        "    except requests.exceptions.RequestException as e:\n",
        "        return f\"An error occurred: {str(e)}\""
      ],
      "metadata": {
        "id": "a4uPix0ZVpT2"
      },
      "execution_count": 9,
      "outputs": []
    },
    {
      "cell_type": "markdown",
      "source": [
        "Wait for at least **2 minutes** before querying for the video link. When the video is ready, a link to an S3 bucket where the video is located will be displayed; otherwise, an empty string is returned."
      ],
      "metadata": {
        "id": "A9enU01nWLjj"
      }
    },
    {
      "cell_type": "code",
      "source": [
        "response_data = query_video_status(bearer_token, request_id)\n",
        "video_link = response_data.get('data')\n",
        "print(video_link)"
      ],
      "metadata": {
        "colab": {
          "base_uri": "https://localhost:8080/"
        },
        "id": "VVeKmwcvV01K",
        "outputId": "9b37df88-a373-4394-b479-887d68e04b51"
      },
      "execution_count": 12,
      "outputs": [
        {
          "output_type": "stream",
          "name": "stdout",
          "text": [
            "https://apiplatform-rhymes-prod-va.s3.amazonaws.com/20241102145602.mp4\n"
          ]
        }
      ]
    },
    {
      "cell_type": "code",
      "source": [
        "video_link"
      ],
      "metadata": {
        "colab": {
          "base_uri": "https://localhost:8080/",
          "height": 35
        },
        "id": "ZdDkpqnCqIY5",
        "outputId": "15aedcb6-960f-4e6e-805d-03c0a051f85e"
      },
      "execution_count": 13,
      "outputs": [
        {
          "output_type": "execute_result",
          "data": {
            "text/plain": [
              "'https://apiplatform-rhymes-prod-va.s3.amazonaws.com/20241102145602.mp4'"
            ],
            "application/vnd.google.colaboratory.intrinsic+json": {
              "type": "string"
            }
          },
          "metadata": {},
          "execution_count": 13
        }
      ]
    }
  ]
}